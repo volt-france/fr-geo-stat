{
 "cells": [
  {
   "cell_type": "code",
   "execution_count": 1,
   "metadata": {},
   "outputs": [],
   "source": [
    "import pynsee as insee"
   ]
  },
  {
   "cell_type": "code",
   "execution_count": 4,
   "metadata": {},
   "outputs": [],
   "source": [
    "import requests as rq"
   ]
  },
  {
   "cell_type": "code",
   "execution_count": 40,
   "metadata": {},
   "outputs": [],
   "source": [
    "from typing import Dict, Any\n",
    "from base64 import b64decode, b64encode\n",
    "\n",
    "urlTokensINSEE = \"https://storage.googleapis.com/public.data.v.olt.sh/tokens/stat/insee.tokens.json\"\n",
    "\n",
    "def getTokens() -> Dict[str,str]:\n",
    "    return rq.get(urlTokensINSEE).json()\n",
    "\n",
    "def authINSEE() -> str:\n",
    "    tokens = getTokens()\n",
    "    res = rq.api.post(\n",
    "        url=\"https://api.insee.fr/token\",\n",
    "        data={\n",
    "            \"grant_type\":\"client_credentials\",\n",
    "            \"client_id\": \"shae\",\n",
    "            \"client_secret\":\"P9F(&!ne+Z@b\"\n",
    "        },\n",
    "        headers={\n",
    "            \"Header\": \"Authorization\",\n",
    "            \"Value\": f\"Basic {b64encode(f'''{tokens['consumer_key']}:{tokens['consumer_secret']}'''.encode())}\"\n",
    "        })\n",
    "    return res\n"
   ]
  },
  {
   "cell_type": "code",
   "execution_count": 6,
   "metadata": {},
   "outputs": [],
   "source": [
    "tokens = getTokens()"
   ]
  },
  {
   "cell_type": "code",
   "execution_count": 41,
   "metadata": {},
   "outputs": [],
   "source": [
    "res = authINSEE()"
   ]
  },
  {
   "cell_type": "code",
   "execution_count": 43,
   "metadata": {},
   "outputs": [
    {
     "data": {
      "text/plain": [
       "b'{\"error_description\":\"A valid OAuth client could not be found for client_id:shae\",\"error\":\"invalid_client\"}'"
      ]
     },
     "execution_count": 43,
     "metadata": {},
     "output_type": "execute_result"
    }
   ],
   "source": [
    "res.content"
   ]
  }
 ],
 "metadata": {
  "kernelspec": {
   "display_name": "frgeostat-DpbmJSqP-py3.11",
   "language": "python",
   "name": "python3"
  },
  "language_info": {
   "codemirror_mode": {
    "name": "ipython",
    "version": 3
   },
   "file_extension": ".py",
   "mimetype": "text/x-python",
   "name": "python",
   "nbconvert_exporter": "python",
   "pygments_lexer": "ipython3",
   "version": "3.11.4"
  },
  "orig_nbformat": 4
 },
 "nbformat": 4,
 "nbformat_minor": 2
}
